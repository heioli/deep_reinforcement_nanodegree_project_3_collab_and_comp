{
 "cells": [
  {
   "cell_type": "markdown",
   "metadata": {},
   "source": [
    "# Collaboration and Competition\n",
    "\n",
    "---\n",
    "\n",
    "Code for third project of the [Deep Reinforcement Learning Nanodegree](https://www.udacity.com/course/deep-reinforcement-learning-nanodegree--nd893) program.\n",
    "\n",
    "### 1. Start the Environment\n",
    "\n",
    "We begin by importing the necessary packages.  If the code cell below returns an error, please revisit the project instructions to double-check that you have installed [Unity ML-Agents](https://github.com/Unity-Technologies/ml-agents/blob/master/docs/Installation.md) and [NumPy](http://www.numpy.org/)."
   ]
  },
  {
   "cell_type": "code",
   "execution_count": 1,
   "metadata": {},
   "outputs": [
    {
     "name": "stdout",
     "output_type": "stream",
     "text": [
      "\u001b[31mtensorflow 1.7.1 has requirement numpy>=1.13.3, but you'll have numpy 1.12.1 which is incompatible.\u001b[0m\r\n",
      "\u001b[31mipython 6.5.0 has requirement prompt-toolkit<2.0.0,>=1.0.15, but you'll have prompt-toolkit 3.0.19 which is incompatible.\u001b[0m\r\n"
     ]
    }
   ],
   "source": [
    "!pip -q install ./python"
   ]
  },
  {
   "cell_type": "code",
   "execution_count": 2,
   "metadata": {},
   "outputs": [],
   "source": [
    "from unityagents import UnityEnvironment\n",
    "import numpy as np\n",
    "from collections import deque\n",
    "import matplotlib.pyplot as plt\n",
    "import importlib\n",
    "import time\n",
    "import torch\n",
    "\n",
    "# Import custom agent\n",
    "import ddpg_agent\n",
    "\n",
    "# Import Workspace Utils to work on Udacity workspace\n",
    "from workspace_utils import active_session"
   ]
  },
  {
   "cell_type": "markdown",
   "metadata": {},
   "source": [
    "Next, we will start the environment!  **_Before running the code cell below_**, change the `file_name` parameter to match the location of the Unity environment that you downloaded.\n",
    "\n",
    "- **Mac**: `\"path/to/Tennis.app\"`\n",
    "- **Windows** (x86): `\"path/to/Tennis_Windows_x86/Tennis.exe\"`\n",
    "- **Windows** (x86_64): `\"path/to/Tennis_Windows_x86_64/Tennis.exe\"`\n",
    "- **Linux** (x86): `\"path/to/Tennis_Linux/Tennis.x86\"`\n",
    "- **Linux** (x86_64): `\"path/to/Tennis_Linux/Tennis.x86_64\"`\n",
    "- **Linux** (x86, headless): `\"path/to/Tennis_Linux_NoVis/Tennis.x86\"`\n",
    "- **Linux** (x86_64, headless): `\"path/to/Tennis_Linux_NoVis/Tennis.x86_64\"`\n",
    "\n",
    "For instance, if you are using a Mac, then you downloaded `Tennis.app`.  If this file is in the same folder as the notebook, then the line below should appear as follows:\n",
    "```\n",
    "env = UnityEnvironment(file_name=\"Tennis.app\")\n",
    "```"
   ]
  },
  {
   "cell_type": "code",
   "execution_count": 3,
   "metadata": {},
   "outputs": [
    {
     "name": "stderr",
     "output_type": "stream",
     "text": [
      "INFO:unityagents:\n",
      "'Academy' started successfully!\n",
      "Unity Academy name: Academy\n",
      "        Number of Brains: 1\n",
      "        Number of External Brains : 1\n",
      "        Lesson number : 0\n",
      "        Reset Parameters :\n",
      "\t\t\n",
      "Unity brain name: TennisBrain\n",
      "        Number of Visual Observations (per agent): 0\n",
      "        Vector Observation space type: continuous\n",
      "        Vector Observation space size (per agent): 8\n",
      "        Number of stacked Vector Observation: 3\n",
      "        Vector Action space type: continuous\n",
      "        Vector Action space size (per agent): 2\n",
      "        Vector Action descriptions: , \n"
     ]
    }
   ],
   "source": [
    "env = UnityEnvironment(file_name=\"/data/Tennis_Linux_NoVis/Tennis\")"
   ]
  },
  {
   "cell_type": "markdown",
   "metadata": {},
   "source": [
    "Environments contain **_brains_** which are responsible for deciding the actions of their associated agents. Here we check for the first brain available, and set it as the default brain we will be controlling from Python."
   ]
  },
  {
   "cell_type": "code",
   "execution_count": 4,
   "metadata": {},
   "outputs": [],
   "source": [
    "# get the default brain\n",
    "brain_name = env.brain_names[0]\n",
    "brain = env.brains[brain_name]"
   ]
  },
  {
   "cell_type": "markdown",
   "metadata": {},
   "source": [
    "### 2. Examine the State and Action Spaces\n",
    "\n",
    "In this environment, two agents control rackets to bounce a ball over a net. If an agent hits the ball over the net, it receives a reward of +0.1.  If an agent lets a ball hit the ground or hits the ball out of bounds, it receives a reward of -0.01.  Thus, the goal of each agent is to keep the ball in play.\n",
    "\n",
    "The observation space consists of 8 variables corresponding to the position and velocity of the ball and racket. Two continuous actions are available, corresponding to movement toward (or away from) the net, and jumping. \n",
    "\n",
    "Run the code cell below to print some information about the environment."
   ]
  },
  {
   "cell_type": "code",
   "execution_count": 5,
   "metadata": {},
   "outputs": [
    {
     "name": "stdout",
     "output_type": "stream",
     "text": [
      "Number of agents: 2\n",
      "Size of each action: 2\n",
      "There are 2 agents. Each observes a state with length: 24\n",
      "The state for the first agent looks like: [ 0.          0.          0.          0.          0.          0.          0.\n",
      "  0.          0.          0.          0.          0.          0.          0.\n",
      "  0.          0.         -6.65278625 -1.5        -0.          0.\n",
      "  6.83172083  6.         -0.          0.        ]\n"
     ]
    }
   ],
   "source": [
    "# reset the environment\n",
    "env_info = env.reset(train_mode=True)[brain_name]\n",
    "\n",
    "# number of agents \n",
    "num_agents = len(env_info.agents)\n",
    "print('Number of agents:', num_agents)\n",
    "\n",
    "# size of each action\n",
    "action_size = brain.vector_action_space_size\n",
    "print('Size of each action:', action_size)\n",
    "\n",
    "# examine the state space \n",
    "states = env_info.vector_observations\n",
    "state_size = states.shape[1]\n",
    "print('There are {} agents. Each observes a state with length: {}'.format(states.shape[0], state_size))\n",
    "print('The state for the first agent looks like:', states[0])"
   ]
  },
  {
   "cell_type": "markdown",
   "metadata": {},
   "source": [
    "### 3. Take Random Actions in the Environment\n",
    "\n",
    "In the next code cell, you will learn how to use the Python API to control the agents and receive feedback from the environment.\n",
    "\n",
    "Once this cell is executed, you will watch the agents' performance, if they select actions at random with each time step.  A window should pop up that allows you to observe the agents.\n",
    "\n",
    "Of course, as part of the project, you'll have to change the code so that the agents are able to use their experiences to gradually choose better actions when interacting with the environment!"
   ]
  },
  {
   "cell_type": "code",
   "execution_count": 6,
   "metadata": {},
   "outputs": [
    {
     "data": {
      "text/plain": [
       "\"\\nfor i in range(1, 6):                                      # play game for 5 episodes\\n    env_info = env.reset(train_mode=False)[brain_name]     # reset the environment    \\n    states = env_info.vector_observations                  # get the current state (for each agent)\\n    scores = np.zeros(num_agents)                          # initialize the score (for each agent)\\n    while True:\\n        actions = np.random.randn(num_agents, action_size) # select an action (for each agent)\\n        actions = np.clip(actions, -1, 1)                  # all actions between -1 and 1\\n        env_info = env.step(actions)[brain_name]           # send all actions to tne environment\\n        next_states = env_info.vector_observations         # get next state (for each agent)\\n        rewards = env_info.rewards                         # get reward (for each agent)\\n        dones = env_info.local_done                        # see if episode finished\\n        scores += env_info.rewards                         # update the score (for each agent)\\n        states = next_states                               # roll over states to next time step\\n        if np.any(dones):                                  # exit loop if episode finished\\n            break\\n    print('Score (max over agents) from episode {}: {}'.format(i, np.max(scores)))\\n\""
      ]
     },
     "execution_count": 6,
     "metadata": {},
     "output_type": "execute_result"
    }
   ],
   "source": [
    "\"\"\"\n",
    "for i in range(1, 6):                                      # play game for 5 episodes\n",
    "    env_info = env.reset(train_mode=False)[brain_name]     # reset the environment    \n",
    "    states = env_info.vector_observations                  # get the current state (for each agent)\n",
    "    scores = np.zeros(num_agents)                          # initialize the score (for each agent)\n",
    "    while True:\n",
    "        actions = np.random.randn(num_agents, action_size) # select an action (for each agent)\n",
    "        actions = np.clip(actions, -1, 1)                  # all actions between -1 and 1\n",
    "        env_info = env.step(actions)[brain_name]           # send all actions to tne environment\n",
    "        next_states = env_info.vector_observations         # get next state (for each agent)\n",
    "        rewards = env_info.rewards                         # get reward (for each agent)\n",
    "        dones = env_info.local_done                        # see if episode finished\n",
    "        scores += env_info.rewards                         # update the score (for each agent)\n",
    "        states = next_states                               # roll over states to next time step\n",
    "        if np.any(dones):                                  # exit loop if episode finished\n",
    "            break\n",
    "    print('Score (max over agents) from episode {}: {}'.format(i, np.max(scores)))\n",
    "\"\"\""
   ]
  },
  {
   "cell_type": "markdown",
   "metadata": {},
   "source": [
    "### 4. It's Your Turn!\n",
    "\n",
    "Now it's your turn to train your own agent to solve the environment!  When training the environment, set `train_mode=True`, so that the line for resetting the environment looks like the following:\n",
    "```python\n",
    "env_info = env.reset(train_mode=True)[brain_name]\n",
    "```"
   ]
  },
  {
   "cell_type": "code",
   "execution_count": 7,
   "metadata": {},
   "outputs": [],
   "source": [
    "# Initialize Target Parameters as in \"The Environment - Introduction\"\n",
    "average_target_score = 0.5 # goal average target score to reach\n",
    "n_consecutive_episodes = 100 # consecutive episodes to average over"
   ]
  },
  {
   "cell_type": "code",
   "execution_count": 8,
   "metadata": {},
   "outputs": [
    {
     "data": {
      "text/plain": [
       "<module 'ddpg_agent' from '/home/workspace/ddpg_agent.py'>"
      ]
     },
     "execution_count": 8,
     "metadata": {},
     "output_type": "execute_result"
    }
   ],
   "source": [
    "importlib.reload(ddpg_agent)"
   ]
  },
  {
   "cell_type": "code",
   "execution_count": 9,
   "metadata": {},
   "outputs": [
    {
     "name": "stdout",
     "output_type": "stream",
     "text": [
      "size agents [<ddpg_agent.Agent object at 0x7f9e412aa780>, <ddpg_agent.Agent object at 0x7f9e4125a160>]\n"
     ]
    }
   ],
   "source": [
    "# Initiate maddpg agent\n",
    "maddpg_agent = ddpg_agent.maddpg(state_size=state_size, action_size=action_size, random_seed=0)\n",
    "print('size agents', maddpg_agent.agents)"
   ]
  },
  {
   "cell_type": "code",
   "execution_count": 10,
   "metadata": {},
   "outputs": [],
   "source": [
    "def ddpg(n_episodes=3000, max_t=1000, print_every=n_consecutive_episodes):\n",
    "    \"\"\"\n",
    "    Deep Deterministic Policy Gradients\n",
    "    \"\"\"\n",
    "    scores_deque = deque(maxlen=n_consecutive_episodes)\n",
    "    scores = []\n",
    "    \n",
    "    for i_episode in range(1, n_episodes+1):\n",
    "        # Start timing\n",
    "        time_start_episode = time.time()\n",
    "        \n",
    "        # Reset environment\n",
    "        env_info = env.reset(train_mode=True)[brain_name] \n",
    "        states = env_info.vector_observations  \n",
    "        # print('states dim', states.shape)\n",
    "        # print('state dim', np.reshape(states[0], (1,-1)).shape)\n",
    "        # print('state[0] dim', np.reshape(states[0], (1,-1)))\n",
    "        # print('type states', type(states))\n",
    "        n_agents = states.shape[0] # shape in example env. (2,24)\n",
    "        \n",
    "        # Reset agent\n",
    "        # agent.reset()\n",
    "        # Array to keep track of individual agent scores\n",
    "        agent_scores_individual = np.zeros(n_agents)\n",
    "        \n",
    "        # Loop over time\n",
    "        for t in range(max_t):\n",
    "            # Adapted multi-agent actions\n",
    "            # ----------------------\n",
    "            # initialize actions array\n",
    "            # print('states', states[0])\n",
    "            actions = maddpg_agent.act(states) # actions.shape = (2,4)\n",
    "            # ----------------------\n",
    "            \n",
    "            # Interact with environment using new actions\n",
    "            # ----------------------\n",
    "            env_info = env.step(actions)[brain_name] # send all actions to the environment\n",
    "            next_states = env_info.vector_observations # get next state (for each agent)\n",
    "            rewards = env_info.rewards # get reward (for each agent)\n",
    "            dones = env_info.local_done # see if episode finished\n",
    "            # ----------------------\n",
    "            \n",
    "            # Adapted multi-agent step:\n",
    "            # ----------------------\n",
    "            # loop over all agents to perform individual steps\n",
    "            maddpg_agent.step(states, actions, rewards, next_states, dones, t)\n",
    "            # ----------------------\n",
    "\n",
    "            agent_scores_individual += rewards # update the score (for each agent)\n",
    "            states = next_states # roll over states to next time step\n",
    "            \n",
    "            if np.any(dones): # exit loop if episode finished\n",
    "                break\n",
    "\n",
    "        # For each episode calculate mean score overall individual agents\n",
    "        max_score = np.max(agent_scores_individual)\n",
    "          \n",
    "        # Add mean score to scores\n",
    "        scores_deque.append(max_score)\n",
    "        mean_scores_deque = np.mean(scores_deque)\n",
    "        scores.append(max_score)\n",
    "        \n",
    "        # Print episode result\n",
    "        time_end_episode = time.time()\n",
    "        average_time_per_episode = (time_end_episode-time_start_episode)\n",
    "        print('\\rEpisode {}\\tAverage Score: {:.2f}\\tScore: {:.2f}\\tEpisode Time s: {:.2f}'.format(i_episode, \n",
    "                                                                                                  mean_scores_deque, \n",
    "                                                                                                  max_score, \n",
    "                                                                                                  average_time_per_episode))\n",
    "        \n",
    "        # Print update after print_every\n",
    "        if i_episode % print_every == 0:\n",
    "            print('Save model')\n",
    "            print('\\rEpisode {}\\tAverage Score: {:.2f}'.format(i_episode, mean_scores_deque))\n",
    "            torch.save(maddpg_agent.agents[0].actor_local.state_dict(), 'checkpoint_actor_0.pth')\n",
    "            torch.save(maddpg_agent.agents[0].critic_local.state_dict(), 'checkpoint_critic_0.pth')\n",
    "            torch.save(maddpg_agent.agents[1].actor_local.state_dict(), 'checkpoint_actor_1.pth')\n",
    "            torch.save(maddpg_agent.agents[1].critic_local.state_dict(), 'checkpoint_critic_1.pth')\n",
    "        # stop training once target score is reached   \n",
    "        if mean_scores_deque >= average_target_score:\n",
    "            print('\\rEnvironment solved at Episode {}\\tAverage Score: {:.2f}'.format(i_episode-n_consecutive_episodes, mean_scores_deque))\n",
    "            torch.save(maddpg_agent.agents[0].actor_local.state_dict(), 'checkpoint_actor_0_final.pth')\n",
    "            torch.save(maddpg_agent.agents[0].critic_local.state_dict(), 'checkpoint_critic_0_final.pth')\n",
    "            torch.save(maddpg_agent.agents[1].actor_local.state_dict(), 'checkpoint_actor_1_final.pth')\n",
    "            torch.save(maddpg_agent.agents[1].critic_local.state_dict(), 'checkpoint_critic_1_final.pth')\n",
    "            break\n",
    "            \n",
    "    return scores"
   ]
  },
  {
   "cell_type": "code",
   "execution_count": 11,
   "metadata": {},
   "outputs": [
    {
     "name": "stdout",
     "output_type": "stream",
     "text": [
      "Episode 1\tAverage Score: 0.00\tScore: 0.00\tEpisode Time s: 0.10\n",
      "Episode 2\tAverage Score: 0.00\tScore: 0.00\tEpisode Time s: 1.41\n",
      "Episode 3\tAverage Score: 0.00\tScore: 0.00\tEpisode Time s: 0.05\n",
      "Episode 4\tAverage Score: 0.00\tScore: 0.00\tEpisode Time s: 0.05\n",
      "Episode 5\tAverage Score: 0.00\tScore: 0.00\tEpisode Time s: 0.05\n",
      "Episode 6\tAverage Score: 0.00\tScore: 0.00\tEpisode Time s: 0.05\n",
      "Episode 7\tAverage Score: 0.00\tScore: 0.00\tEpisode Time s: 0.05\n",
      "Episode 8\tAverage Score: 0.00\tScore: 0.00\tEpisode Time s: 0.05\n",
      "Episode 9\tAverage Score: 0.00\tScore: 0.00\tEpisode Time s: 0.05\n",
      "Episode 10\tAverage Score: 0.00\tScore: 0.00\tEpisode Time s: 1.14\n",
      "Save model\n",
      "Episode 10\tAverage Score: 0.00\n",
      "Episode 11\tAverage Score: 0.00\tScore: 0.00\tEpisode Time s: 1.18\n",
      "Episode 12\tAverage Score: 0.00\tScore: 0.00\tEpisode Time s: 1.10\n",
      "Episode 13\tAverage Score: 0.00\tScore: 0.00\tEpisode Time s: 1.10\n",
      "Episode 14\tAverage Score: 0.00\tScore: 0.00\tEpisode Time s: 1.10\n",
      "Episode 15\tAverage Score: 0.01\tScore: 0.09\tEpisode Time s: 2.44\n",
      "Episode 16\tAverage Score: 0.01\tScore: 0.00\tEpisode Time s: 1.10\n",
      "Episode 17\tAverage Score: 0.01\tScore: 0.10\tEpisode Time s: 2.43\n",
      "Episode 18\tAverage Score: 0.01\tScore: 0.00\tEpisode Time s: 1.21\n",
      "Episode 19\tAverage Score: 0.02\tScore: 0.10\tEpisode Time s: 2.45\n",
      "Episode 20\tAverage Score: 0.01\tScore: 0.00\tEpisode Time s: 1.18\n",
      "Save model\n",
      "Episode 20\tAverage Score: 0.01\n",
      "Episode 21\tAverage Score: 0.01\tScore: 0.00\tEpisode Time s: 1.12\n",
      "Episode 22\tAverage Score: 0.01\tScore: 0.00\tEpisode Time s: 1.12\n",
      "Episode 23\tAverage Score: 0.01\tScore: 0.00\tEpisode Time s: 1.15\n",
      "Episode 24\tAverage Score: 0.01\tScore: 0.00\tEpisode Time s: 1.12\n",
      "Episode 25\tAverage Score: 0.01\tScore: 0.00\tEpisode Time s: 1.19\n",
      "Episode 26\tAverage Score: 0.01\tScore: 0.00\tEpisode Time s: 1.12\n",
      "Episode 27\tAverage Score: 0.01\tScore: 0.00\tEpisode Time s: 1.11\n",
      "Episode 28\tAverage Score: 0.01\tScore: 0.00\tEpisode Time s: 1.10\n",
      "Episode 29\tAverage Score: 0.01\tScore: 0.00\tEpisode Time s: 1.11\n",
      "Episode 30\tAverage Score: 0.01\tScore: 0.00\tEpisode Time s: 1.23\n",
      "Save model\n",
      "Episode 30\tAverage Score: 0.01\n",
      "Episode 31\tAverage Score: 0.01\tScore: 0.00\tEpisode Time s: 1.13\n",
      "Episode 32\tAverage Score: 0.01\tScore: 0.09\tEpisode Time s: 2.50\n",
      "Episode 33\tAverage Score: 0.01\tScore: 0.00\tEpisode Time s: 1.06\n",
      "Episode 34\tAverage Score: 0.01\tScore: 0.00\tEpisode Time s: 1.19\n",
      "Episode 35\tAverage Score: 0.01\tScore: 0.00\tEpisode Time s: 1.12\n",
      "Episode 36\tAverage Score: 0.01\tScore: 0.09\tEpisode Time s: 2.39\n",
      "Episode 37\tAverage Score: 0.02\tScore: 0.09\tEpisode Time s: 2.47\n",
      "Episode 38\tAverage Score: 0.01\tScore: 0.00\tEpisode Time s: 1.03\n",
      "Episode 39\tAverage Score: 0.02\tScore: 0.09\tEpisode Time s: 2.31\n",
      "Episode 40\tAverage Score: 0.02\tScore: 0.00\tEpisode Time s: 1.60\n",
      "Save model\n",
      "Episode 40\tAverage Score: 0.02\n",
      "Episode 41\tAverage Score: 0.02\tScore: 0.10\tEpisode Time s: 2.44\n",
      "Episode 42\tAverage Score: 0.02\tScore: 0.10\tEpisode Time s: 2.45\n",
      "Episode 43\tAverage Score: 0.02\tScore: 0.09\tEpisode Time s: 2.39\n",
      "Episode 44\tAverage Score: 0.02\tScore: 0.09\tEpisode Time s: 2.41\n",
      "Episode 45\tAverage Score: 0.02\tScore: 0.09\tEpisode Time s: 2.38\n",
      "Episode 46\tAverage Score: 0.03\tScore: 0.10\tEpisode Time s: 2.38\n",
      "Episode 47\tAverage Score: 0.03\tScore: 0.10\tEpisode Time s: 2.33\n",
      "Episode 48\tAverage Score: 0.03\tScore: 0.09\tEpisode Time s: 2.36\n",
      "Episode 49\tAverage Score: 0.03\tScore: 0.00\tEpisode Time s: 1.18\n",
      "Episode 50\tAverage Score: 0.03\tScore: 0.10\tEpisode Time s: 2.47\n",
      "Save model\n",
      "Episode 50\tAverage Score: 0.03\n",
      "Episode 51\tAverage Score: 0.03\tScore: 0.09\tEpisode Time s: 2.39\n",
      "Episode 52\tAverage Score: 0.03\tScore: 0.09\tEpisode Time s: 2.32\n",
      "Episode 53\tAverage Score: 0.03\tScore: 0.09\tEpisode Time s: 2.47\n",
      "Episode 54\tAverage Score: 0.03\tScore: 0.00\tEpisode Time s: 1.12\n",
      "Episode 55\tAverage Score: 0.03\tScore: 0.10\tEpisode Time s: 2.50\n",
      "Episode 56\tAverage Score: 0.04\tScore: 0.09\tEpisode Time s: 2.39\n",
      "Episode 57\tAverage Score: 0.04\tScore: 0.10\tEpisode Time s: 2.47\n",
      "Episode 58\tAverage Score: 0.04\tScore: 0.00\tEpisode Time s: 1.02\n",
      "Episode 59\tAverage Score: 0.04\tScore: 0.09\tEpisode Time s: 2.47\n",
      "Episode 60\tAverage Score: 0.04\tScore: 0.09\tEpisode Time s: 2.39\n",
      "Save model\n",
      "Episode 60\tAverage Score: 0.04\n",
      "Episode 61\tAverage Score: 0.04\tScore: 0.10\tEpisode Time s: 2.46\n",
      "Episode 62\tAverage Score: 0.04\tScore: 0.09\tEpisode Time s: 2.49\n",
      "Episode 63\tAverage Score: 0.04\tScore: 0.09\tEpisode Time s: 2.33\n",
      "Episode 64\tAverage Score: 0.04\tScore: 0.10\tEpisode Time s: 2.47\n",
      "Episode 65\tAverage Score: 0.04\tScore: 0.10\tEpisode Time s: 2.51\n",
      "Episode 66\tAverage Score: 0.04\tScore: 0.09\tEpisode Time s: 2.38\n",
      "Episode 67\tAverage Score: 0.04\tScore: 0.09\tEpisode Time s: 2.35\n",
      "Episode 68\tAverage Score: 0.04\tScore: 0.09\tEpisode Time s: 2.46\n",
      "Episode 69\tAverage Score: 0.04\tScore: 0.10\tEpisode Time s: 2.43\n",
      "Episode 70\tAverage Score: 0.05\tScore: 0.10\tEpisode Time s: 2.39\n",
      "Save model\n",
      "Episode 70\tAverage Score: 0.05\n",
      "Episode 71\tAverage Score: 0.05\tScore: 0.10\tEpisode Time s: 2.49\n",
      "Episode 72\tAverage Score: 0.05\tScore: 0.10\tEpisode Time s: 2.39\n",
      "Episode 73\tAverage Score: 0.05\tScore: 0.00\tEpisode Time s: 1.44\n",
      "Episode 74\tAverage Score: 0.05\tScore: 0.09\tEpisode Time s: 2.48\n",
      "Episode 75\tAverage Score: 0.05\tScore: 0.10\tEpisode Time s: 2.37\n",
      "Episode 76\tAverage Score: 0.05\tScore: 0.09\tEpisode Time s: 2.58\n",
      "Episode 77\tAverage Score: 0.05\tScore: 0.10\tEpisode Time s: 2.49\n",
      "Episode 78\tAverage Score: 0.05\tScore: 0.09\tEpisode Time s: 2.49\n",
      "Episode 79\tAverage Score: 0.05\tScore: 0.10\tEpisode Time s: 2.45\n",
      "Episode 80\tAverage Score: 0.05\tScore: 0.10\tEpisode Time s: 2.47\n",
      "Save model\n",
      "Episode 80\tAverage Score: 0.05\n",
      "Episode 81\tAverage Score: 0.05\tScore: 0.09\tEpisode Time s: 2.39\n",
      "Episode 82\tAverage Score: 0.05\tScore: 0.10\tEpisode Time s: 2.49\n",
      "Episode 83\tAverage Score: 0.05\tScore: 0.09\tEpisode Time s: 2.49\n",
      "Episode 84\tAverage Score: 0.05\tScore: 0.09\tEpisode Time s: 2.46\n",
      "Episode 85\tAverage Score: 0.05\tScore: 0.10\tEpisode Time s: 2.37\n",
      "Episode 86\tAverage Score: 0.05\tScore: 0.09\tEpisode Time s: 2.54\n",
      "Episode 87\tAverage Score: 0.05\tScore: 0.09\tEpisode Time s: 2.48\n",
      "Episode 88\tAverage Score: 0.05\tScore: 0.09\tEpisode Time s: 2.61\n",
      "Episode 89\tAverage Score: 0.06\tScore: 0.09\tEpisode Time s: 2.48\n",
      "Episode 90\tAverage Score: 0.06\tScore: 0.09\tEpisode Time s: 2.55\n",
      "Save model\n",
      "Episode 90\tAverage Score: 0.06\n",
      "Episode 91\tAverage Score: 0.06\tScore: 0.09\tEpisode Time s: 2.42\n",
      "Episode 92\tAverage Score: 0.06\tScore: 0.10\tEpisode Time s: 2.47\n",
      "Episode 93\tAverage Score: 0.06\tScore: 0.10\tEpisode Time s: 2.47\n",
      "Episode 94\tAverage Score: 0.06\tScore: 0.09\tEpisode Time s: 2.42\n",
      "Episode 95\tAverage Score: 0.06\tScore: 0.10\tEpisode Time s: 2.49\n",
      "Episode 96\tAverage Score: 0.06\tScore: 0.09\tEpisode Time s: 2.42\n",
      "Episode 97\tAverage Score: 0.06\tScore: 0.10\tEpisode Time s: 2.43\n",
      "Episode 98\tAverage Score: 0.06\tScore: 0.09\tEpisode Time s: 2.57\n",
      "Episode 99\tAverage Score: 0.06\tScore: 0.09\tEpisode Time s: 2.46\n",
      "Episode 100\tAverage Score: 0.06\tScore: 0.09\tEpisode Time s: 2.51\n",
      "Save model\n",
      "Episode 100\tAverage Score: 0.06\n",
      "Episode 101\tAverage Score: 0.06\tScore: 0.09\tEpisode Time s: 2.51\n",
      "Episode 102\tAverage Score: 0.06\tScore: 0.09\tEpisode Time s: 2.57\n",
      "Episode 103\tAverage Score: 0.06\tScore: 0.09\tEpisode Time s: 2.51\n",
      "Episode 104\tAverage Score: 0.06\tScore: 0.09\tEpisode Time s: 2.58\n",
      "Episode 105\tAverage Score: 0.06\tScore: 0.10\tEpisode Time s: 2.39\n",
      "Episode 106\tAverage Score: 0.06\tScore: 0.10\tEpisode Time s: 2.42\n",
      "Episode 107\tAverage Score: 0.07\tScore: 0.10\tEpisode Time s: 2.54\n",
      "Episode 108\tAverage Score: 0.07\tScore: 0.09\tEpisode Time s: 2.47\n",
      "Episode 109\tAverage Score: 0.07\tScore: 0.09\tEpisode Time s: 2.54\n",
      "Episode 110\tAverage Score: 0.07\tScore: 0.10\tEpisode Time s: 2.50\n",
      "Save model\n",
      "Episode 110\tAverage Score: 0.07\n",
      "Episode 111\tAverage Score: 0.07\tScore: 0.09\tEpisode Time s: 2.48\n",
      "Episode 112\tAverage Score: 0.07\tScore: 0.10\tEpisode Time s: 2.56\n",
      "Episode 113\tAverage Score: 0.07\tScore: 0.09\tEpisode Time s: 2.43\n",
      "Episode 114\tAverage Score: 0.07\tScore: 0.10\tEpisode Time s: 2.50\n",
      "Episode 115\tAverage Score: 0.07\tScore: 0.09\tEpisode Time s: 2.48\n",
      "Episode 116\tAverage Score: 0.07\tScore: 0.10\tEpisode Time s: 2.39\n",
      "Episode 117\tAverage Score: 0.07\tScore: 0.10\tEpisode Time s: 2.49\n",
      "Episode 118\tAverage Score: 0.07\tScore: 0.10\tEpisode Time s: 2.45\n",
      "Episode 119\tAverage Score: 0.07\tScore: 0.09\tEpisode Time s: 2.49\n",
      "Episode 120\tAverage Score: 0.08\tScore: 0.09\tEpisode Time s: 2.56\n",
      "Save model\n",
      "Episode 120\tAverage Score: 0.08\n"
     ]
    },
    {
     "name": "stdout",
     "output_type": "stream",
     "text": [
      "Episode 121\tAverage Score: 0.08\tScore: 0.10\tEpisode Time s: 2.56\n",
      "Episode 122\tAverage Score: 0.08\tScore: 0.09\tEpisode Time s: 2.48\n",
      "Episode 123\tAverage Score: 0.08\tScore: 0.10\tEpisode Time s: 2.54\n",
      "Episode 124\tAverage Score: 0.08\tScore: 0.09\tEpisode Time s: 2.39\n",
      "Episode 125\tAverage Score: 0.08\tScore: 0.10\tEpisode Time s: 2.47\n",
      "Episode 126\tAverage Score: 0.08\tScore: 0.10\tEpisode Time s: 2.41\n",
      "Episode 127\tAverage Score: 0.08\tScore: 0.09\tEpisode Time s: 2.41\n",
      "Episode 128\tAverage Score: 0.08\tScore: 0.10\tEpisode Time s: 2.40\n",
      "Episode 129\tAverage Score: 0.08\tScore: 0.10\tEpisode Time s: 2.57\n",
      "Episode 130\tAverage Score: 0.08\tScore: 0.09\tEpisode Time s: 2.50\n",
      "Save model\n",
      "Episode 130\tAverage Score: 0.08\n",
      "Episode 131\tAverage Score: 0.09\tScore: 0.09\tEpisode Time s: 2.47\n",
      "Episode 132\tAverage Score: 0.09\tScore: 0.10\tEpisode Time s: 2.46\n",
      "Episode 133\tAverage Score: 0.09\tScore: 0.09\tEpisode Time s: 2.47\n",
      "Episode 134\tAverage Score: 0.09\tScore: 0.09\tEpisode Time s: 2.56\n",
      "Episode 135\tAverage Score: 0.09\tScore: 0.09\tEpisode Time s: 2.57\n",
      "Episode 136\tAverage Score: 0.09\tScore: 0.10\tEpisode Time s: 2.43\n",
      "Episode 137\tAverage Score: 0.09\tScore: 0.10\tEpisode Time s: 2.48\n",
      "Episode 138\tAverage Score: 0.09\tScore: 0.10\tEpisode Time s: 2.51\n",
      "Episode 139\tAverage Score: 0.09\tScore: 0.09\tEpisode Time s: 2.40\n",
      "Episode 140\tAverage Score: 0.09\tScore: 0.10\tEpisode Time s: 2.52\n",
      "Save model\n",
      "Episode 140\tAverage Score: 0.09\n",
      "Episode 141\tAverage Score: 0.09\tScore: 0.10\tEpisode Time s: 2.47\n",
      "Episode 142\tAverage Score: 0.09\tScore: 0.10\tEpisode Time s: 4.20\n",
      "Episode 143\tAverage Score: 0.09\tScore: 0.20\tEpisode Time s: 5.43\n",
      "Episode 144\tAverage Score: 0.09\tScore: 0.10\tEpisode Time s: 2.46\n",
      "Episode 145\tAverage Score: 0.09\tScore: 0.10\tEpisode Time s: 2.46\n",
      "Episode 146\tAverage Score: 0.09\tScore: 0.10\tEpisode Time s: 2.57\n",
      "Episode 147\tAverage Score: 0.09\tScore: 0.10\tEpisode Time s: 2.57\n",
      "Episode 148\tAverage Score: 0.09\tScore: 0.10\tEpisode Time s: 2.52\n",
      "Episode 149\tAverage Score: 0.09\tScore: 0.10\tEpisode Time s: 2.45\n",
      "Episode 150\tAverage Score: 0.09\tScore: 0.09\tEpisode Time s: 2.48\n",
      "Save model\n",
      "Episode 150\tAverage Score: 0.09\n",
      "Episode 151\tAverage Score: 0.09\tScore: 0.09\tEpisode Time s: 2.40\n",
      "Episode 152\tAverage Score: 0.09\tScore: 0.00\tEpisode Time s: 1.14\n",
      "Episode 153\tAverage Score: 0.09\tScore: 0.09\tEpisode Time s: 2.51\n",
      "Episode 154\tAverage Score: 0.09\tScore: 0.00\tEpisode Time s: 1.14\n",
      "Episode 155\tAverage Score: 0.09\tScore: 0.00\tEpisode Time s: 1.13\n",
      "Episode 156\tAverage Score: 0.09\tScore: 0.00\tEpisode Time s: 1.13\n",
      "Episode 157\tAverage Score: 0.09\tScore: 0.10\tEpisode Time s: 4.30\n",
      "Episode 158\tAverage Score: 0.09\tScore: 0.10\tEpisode Time s: 4.15\n",
      "Episode 159\tAverage Score: 0.09\tScore: 0.09\tEpisode Time s: 2.43\n",
      "Episode 160\tAverage Score: 0.09\tScore: 0.10\tEpisode Time s: 4.19\n",
      "Save model\n",
      "Episode 160\tAverage Score: 0.09\n",
      "Episode 161\tAverage Score: 0.09\tScore: 0.09\tEpisode Time s: 2.42\n",
      "Episode 162\tAverage Score: 0.09\tScore: 0.10\tEpisode Time s: 2.67\n",
      "Episode 163\tAverage Score: 0.09\tScore: 0.09\tEpisode Time s: 2.50\n",
      "Episode 164\tAverage Score: 0.09\tScore: 0.00\tEpisode Time s: 1.15\n",
      "Episode 165\tAverage Score: 0.09\tScore: 0.09\tEpisode Time s: 2.53\n",
      "Episode 166\tAverage Score: 0.09\tScore: 0.00\tEpisode Time s: 1.07\n",
      "Episode 167\tAverage Score: 0.09\tScore: 0.10\tEpisode Time s: 2.35\n",
      "Episode 168\tAverage Score: 0.09\tScore: 0.30\tEpisode Time s: 10.29\n",
      "Episode 169\tAverage Score: 0.09\tScore: 0.10\tEpisode Time s: 4.42\n",
      "Episode 170\tAverage Score: 0.09\tScore: 0.30\tEpisode Time s: 10.22\n",
      "Save model\n",
      "Episode 170\tAverage Score: 0.09\n",
      "Episode 171\tAverage Score: 0.09\tScore: 0.09\tEpisode Time s: 2.42\n",
      "Episode 172\tAverage Score: 0.09\tScore: 0.10\tEpisode Time s: 2.43\n",
      "Episode 173\tAverage Score: 0.10\tScore: 0.60\tEpisode Time s: 18.07\n",
      "Episode 174\tAverage Score: 0.12\tScore: 2.60\tEpisode Time s: 81.07\n",
      "Episode 175\tAverage Score: 0.12\tScore: 0.00\tEpisode Time s: 0.26\n",
      "Episode 176\tAverage Score: 0.15\tScore: 2.60\tEpisode Time s: 81.24\n",
      "Episode 177\tAverage Score: 0.17\tScore: 2.70\tEpisode Time s: 81.12\n",
      "Episode 178\tAverage Score: 0.20\tScore: 2.60\tEpisode Time s: 81.57\n",
      "Episode 179\tAverage Score: 0.23\tScore: 2.70\tEpisode Time s: 81.29\n",
      "Episode 180\tAverage Score: 0.25\tScore: 2.40\tEpisode Time s: 75.14\n",
      "Save model\n",
      "Episode 180\tAverage Score: 0.25\n",
      "Episode 181\tAverage Score: 0.27\tScore: 2.60\tEpisode Time s: 81.66\n",
      "Episode 182\tAverage Score: 0.30\tScore: 2.70\tEpisode Time s: 81.52\n",
      "Episode 183\tAverage Score: 0.33\tScore: 2.60\tEpisode Time s: 81.91\n",
      "Episode 184\tAverage Score: 0.35\tScore: 2.70\tEpisode Time s: 82.28\n",
      "Episode 185\tAverage Score: 0.36\tScore: 1.00\tEpisode Time s: 30.48\n",
      "Episode 186\tAverage Score: 0.39\tScore: 2.60\tEpisode Time s: 81.69\n",
      "Episode 187\tAverage Score: 0.40\tScore: 1.90\tEpisode Time s: 59.55\n",
      "Episode 188\tAverage Score: 0.43\tScore: 2.60\tEpisode Time s: 82.18\n",
      "Episode 189\tAverage Score: 0.45\tScore: 2.70\tEpisode Time s: 82.20\n",
      "Episode 190\tAverage Score: 0.47\tScore: 1.30\tEpisode Time s: 41.27\n",
      "Save model\n",
      "Episode 190\tAverage Score: 0.47\n",
      "Episode 191\tAverage Score: 0.49\tScore: 2.60\tEpisode Time s: 81.89\n",
      "Episode 192\tAverage Score: 0.51\tScore: 2.30\tEpisode Time s: 73.91\n",
      "Environment solved at Episode 92\tAverage Score: 0.51\n"
     ]
    }
   ],
   "source": [
    "# Uncomment when working on Udacity workspace\n",
    "with active_session():\n",
    "    scores = ddpg(n_episodes=2000, max_t=1000, print_every=10)"
   ]
  },
  {
   "cell_type": "code",
   "execution_count": 12,
   "metadata": {},
   "outputs": [],
   "source": [
    "#scores = ddpg(n_episodes=1000, max_t=1000, print_every=10)"
   ]
  },
  {
   "cell_type": "code",
   "execution_count": 13,
   "metadata": {},
   "outputs": [
    {
     "data": {
      "image/png": "[encoded data removed]",
      "text/plain": [
       "<matplotlib.figure.Figure at 0x7f9ddfb973c8>"
      ]
     },
     "metadata": {
      "needs_background": "light"
     },
     "output_type": "display_data"
    }
   ],
   "source": [
    "fig = plt.figure()\n",
    "ax = fig.add_subplot(111)\n",
    "plt.plot(np.arange(1, len(scores)+1), scores)\n",
    "plt.ylabel('Score')\n",
    "plt.xlabel('Episode #')\n",
    "plt.savefig('./Plots/Average_scores.png')\n",
    "plt.show()"
   ]
  },
  {
   "cell_type": "code",
   "execution_count": null,
   "metadata": {},
   "outputs": [],
   "source": []
  }
 ],
 "metadata": {
  "kernelspec": {
   "display_name": "Python 3",
   "language": "python",
   "name": "python3"
  },
  "language_info": {
   "codemirror_mode": {
    "name": "ipython",
    "version": 3
   },
   "file_extension": ".py",
   "mimetype": "text/x-python",
   "name": "python",
   "nbconvert_exporter": "python",
   "pygments_lexer": "ipython3",
   "version": "3.6.3"
  }
 },
 "nbformat": 4,
 "nbformat_minor": 2
}
