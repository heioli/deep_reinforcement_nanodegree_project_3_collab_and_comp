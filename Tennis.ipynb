{
 "cells": [
  {
   "cell_type": "markdown",
   "metadata": {},
   "source": [
    "# Collaboration and Competition\n",
    "\n",
    "---\n",
    "\n",
    "Code for third project of the [Deep Reinforcement Learning Nanodegree](https://www.udacity.com/course/deep-reinforcement-learning-nanodegree--nd893) program.\n",
    "\n",
    "### 1. Start the Environment\n",
    "\n",
    "We begin by importing the necessary packages.  If the code cell below returns an error, please revisit the project instructions to double-check that you have installed [Unity ML-Agents](https://github.com/Unity-Technologies/ml-agents/blob/master/docs/Installation.md) and [NumPy](http://www.numpy.org/)."
   ]
  },
  {
   "cell_type": "code",
   "execution_count": null,
   "metadata": {},
   "outputs": [],
   "source": [
    "# !pip -q install ./python"
   ]
  },
  {
   "cell_type": "code",
   "execution_count": null,
   "metadata": {},
   "outputs": [],
   "source": [
    "from unityagents import UnityEnvironment\n",
    "import numpy as np\n",
    "from collections import deque\n",
    "import matplotlib.pyplot as plt\n",
    "import importlib\n",
    "import time\n",
    "import torch\n",
    "\n",
    "# Import custom agent\n",
    "import ddpg_agent\n",
    "\n",
    "# Import Workspace Utils to work on Udacity workspace\n",
    "# from workspace_utils import active_session"
   ]
  },
  {
   "cell_type": "markdown",
   "metadata": {},
   "source": [
    "Next, we will start the environment!  **_Before running the code cell below_**, change the `file_name` parameter to match the location of the Unity environment that you downloaded.\n",
    "\n",
    "- **Mac**: `\"path/to/Tennis.app\"`\n",
    "- **Windows** (x86): `\"path/to/Tennis_Windows_x86/Tennis.exe\"`\n",
    "- **Windows** (x86_64): `\"path/to/Tennis_Windows_x86_64/Tennis.exe\"`\n",
    "- **Linux** (x86): `\"path/to/Tennis_Linux/Tennis.x86\"`\n",
    "- **Linux** (x86_64): `\"path/to/Tennis_Linux/Tennis.x86_64\"`\n",
    "- **Linux** (x86, headless): `\"path/to/Tennis_Linux_NoVis/Tennis.x86\"`\n",
    "- **Linux** (x86_64, headless): `\"path/to/Tennis_Linux_NoVis/Tennis.x86_64\"`\n",
    "\n",
    "For instance, if you are using a Mac, then you downloaded `Tennis.app`.  If this file is in the same folder as the notebook, then the line below should appear as follows:\n",
    "```\n",
    "env = UnityEnvironment(file_name=\"Tennis.app\")\n",
    "```"
   ]
  },
  {
   "cell_type": "code",
   "execution_count": null,
   "metadata": {},
   "outputs": [],
   "source": [
    "env = UnityEnvironment(file_name=\"Tennis_Linux_NoVis/Tennis.x86_64\")"
   ]
  },
  {
   "cell_type": "markdown",
   "metadata": {},
   "source": [
    "Environments contain **_brains_** which are responsible for deciding the actions of their associated agents. Here we check for the first brain available, and set it as the default brain we will be controlling from Python."
   ]
  },
  {
   "cell_type": "code",
   "execution_count": null,
   "metadata": {},
   "outputs": [],
   "source": [
    "# get the default brain\n",
    "brain_name = env.brain_names[0]\n",
    "brain = env.brains[brain_name]"
   ]
  },
  {
   "cell_type": "markdown",
   "metadata": {},
   "source": [
    "### 2. Examine the State and Action Spaces\n",
    "\n",
    "In this environment, two agents control rackets to bounce a ball over a net. If an agent hits the ball over the net, it receives a reward of +0.1.  If an agent lets a ball hit the ground or hits the ball out of bounds, it receives a reward of -0.01.  Thus, the goal of each agent is to keep the ball in play.\n",
    "\n",
    "The observation space consists of 8 variables corresponding to the position and velocity of the ball and racket. Two continuous actions are available, corresponding to movement toward (or away from) the net, and jumping. \n",
    "\n",
    "Run the code cell below to print some information about the environment."
   ]
  },
  {
   "cell_type": "code",
   "execution_count": null,
   "metadata": {},
   "outputs": [],
   "source": [
    "# reset the environment\n",
    "env_info = env.reset(train_mode=True)[brain_name]\n",
    "\n",
    "# number of agents \n",
    "num_agents = len(env_info.agents)\n",
    "print('Number of agents:', num_agents)\n",
    "\n",
    "# size of each action\n",
    "action_size = brain.vector_action_space_size\n",
    "print('Size of each action:', action_size)\n",
    "\n",
    "# examine the state space \n",
    "states = env_info.vector_observations\n",
    "state_size = states.shape[1]\n",
    "print('There are {} agents. Each observes a state with length: {}'.format(states.shape[0], state_size))\n",
    "print('The state for the first agent looks like:', states[0])"
   ]
  },
  {
   "cell_type": "markdown",
   "metadata": {},
   "source": [
    "### 3. Take Random Actions in the Environment\n",
    "\n",
    "In the next code cell, you will learn how to use the Python API to control the agents and receive feedback from the environment.\n",
    "\n",
    "Once this cell is executed, you will watch the agents' performance, if they select actions at random with each time step.  A window should pop up that allows you to observe the agents.\n",
    "\n",
    "Of course, as part of the project, you'll have to change the code so that the agents are able to use their experiences to gradually choose better actions when interacting with the environment!"
   ]
  },
  {
   "cell_type": "code",
   "execution_count": null,
   "metadata": {},
   "outputs": [],
   "source": [
    "\"\"\"\n",
    "for i in range(1, 6):                                      # play game for 5 episodes\n",
    "    env_info = env.reset(train_mode=False)[brain_name]     # reset the environment    \n",
    "    states = env_info.vector_observations                  # get the current state (for each agent)\n",
    "    scores = np.zeros(num_agents)                          # initialize the score (for each agent)\n",
    "    while True:\n",
    "        actions = np.random.randn(num_agents, action_size) # select an action (for each agent)\n",
    "        actions = np.clip(actions, -1, 1)                  # all actions between -1 and 1\n",
    "        env_info = env.step(actions)[brain_name]           # send all actions to tne environment\n",
    "        next_states = env_info.vector_observations         # get next state (for each agent)\n",
    "        rewards = env_info.rewards                         # get reward (for each agent)\n",
    "        dones = env_info.local_done                        # see if episode finished\n",
    "        scores += env_info.rewards                         # update the score (for each agent)\n",
    "        states = next_states                               # roll over states to next time step\n",
    "        if np.any(dones):                                  # exit loop if episode finished\n",
    "            break\n",
    "    print('Score (max over agents) from episode {}: {}'.format(i, np.max(scores)))\n",
    "\"\"\""
   ]
  },
  {
   "cell_type": "markdown",
   "metadata": {},
   "source": [
    "### 4. It's Your Turn!\n",
    "\n",
    "Now it's your turn to train your own agent to solve the environment!  When training the environment, set `train_mode=True`, so that the line for resetting the environment looks like the following:\n",
    "```python\n",
    "env_info = env.reset(train_mode=True)[brain_name]\n",
    "```"
   ]
  },
  {
   "cell_type": "code",
   "execution_count": null,
   "metadata": {},
   "outputs": [],
   "source": [
    "# Initialize Target Parameters as in \"The Environment - Introduction\"\n",
    "average_target_score = 0.5 # goal average target score to reach\n",
    "n_consecutive_episodes = 100 # consecutive episodes to average over"
   ]
  },
  {
   "cell_type": "code",
   "execution_count": null,
   "metadata": {},
   "outputs": [],
   "source": [
    "importlib.reload(ddpg_agent)"
   ]
  },
  {
   "cell_type": "code",
   "execution_count": null,
   "metadata": {},
   "outputs": [],
   "source": [
    "# Initiate maddpg agent\n",
    "maddpg_agent = ddpg_agent.maddpg(state_size=state_size, action_size=action_size, random_seed=0)\n",
    "print('size agents', maddpg_agent.agents)"
   ]
  },
  {
   "cell_type": "code",
   "execution_count": null,
   "metadata": {},
   "outputs": [],
   "source": [
    "def ddpg(n_episodes=3000, max_t=1000, print_every=n_consecutive_episodes):\n",
    "    \"\"\"\n",
    "    Deep Deterministic Policy Gradients\n",
    "    \"\"\"\n",
    "    scores_deque = deque(maxlen=n_consecutive_episodes)\n",
    "    scores = []\n",
    "    \n",
    "    for i_episode in range(1, n_episodes+1):\n",
    "        # Start timing\n",
    "        time_start_episode = time.time()\n",
    "        \n",
    "        # Reset environment\n",
    "        env_info = env.reset(train_mode=True)[brain_name] \n",
    "        states = env_info.vector_observations  \n",
    "        # print('states dim', states.shape)\n",
    "        # print('state dim', np.reshape(states[0], (1,-1)).shape)\n",
    "        # print('state[0] dim', np.reshape(states[0], (1,-1)))\n",
    "        # print('type states', type(states))\n",
    "        n_agents = states.shape[0] # shape in example env. (2,24)\n",
    "        \n",
    "        # Reset agent\n",
    "        # agent.reset()\n",
    "        # Array to keep track of individual agent scores\n",
    "        agent_scores_individual = np.zeros(n_agents)\n",
    "        \n",
    "        # Loop over time\n",
    "        for t in range(max_t):\n",
    "            # Adapted multi-agent actions\n",
    "            # ----------------------\n",
    "            # initialize actions array\n",
    "            # print('states', states[0])\n",
    "            actions = maddpg_agent.act(states) # actions.shape = (2,4)\n",
    "            # ----------------------\n",
    "            \n",
    "            # Interact with environment using new actions\n",
    "            # ----------------------\n",
    "            env_info = env.step(actions)[brain_name] # send all actions to the environment\n",
    "            next_states = env_info.vector_observations # get next state (for each agent)\n",
    "            rewards = env_info.rewards # get reward (for each agent)\n",
    "            dones = env_info.local_done # see if episode finished\n",
    "            # ----------------------\n",
    "            \n",
    "            # Adapted multi-agent step:\n",
    "            # ----------------------\n",
    "            # loop over all agents to perform individual steps\n",
    "            maddpg_agent.step(states, actions, rewards, next_states, dones, t)\n",
    "            # ----------------------\n",
    "\n",
    "            agent_scores_individual += rewards # update the score (for each agent)\n",
    "            states = next_states # roll over states to next time step\n",
    "            \n",
    "            if np.any(dones): # exit loop if episode finished\n",
    "                break\n",
    "\n",
    "        # For each episode calculate mean score overall individual agents\n",
    "        max_score = np.max(agent_scores_individual)\n",
    "          \n",
    "        # Add mean score to scores\n",
    "        scores_deque.append(max_score)\n",
    "        mean_scores_deque = np.mean(scores_deque)\n",
    "        scores.append(max_score)\n",
    "        \n",
    "        # Print episode result\n",
    "        time_end_episode = time.time()\n",
    "        average_time_per_episode = (time_end_episode-time_start_episode)\n",
    "        print('\\rEpisode {}\\tAverage Score: {:.2f}\\tScore: {:.2f}\\tEpisode Time s: {:.2f}'.format(i_episode, \n",
    "                                                                                                  mean_scores_deque, \n",
    "                                                                                                  max_score, \n",
    "                                                                                                  average_time_per_episode))\n",
    "        \n",
    "        # Print update after print_every\n",
    "        if i_episode % print_every == 0:\n",
    "            print('Save model')\n",
    "            print('\\rEpisode {}\\tAverage Score: {:.2f}'.format(i_episode, mean_scores_deque))\n",
    "            torch.save(maddpg_agent.agents[0].actor_local.state_dict(), 'checkpoint_actor_0.pth')\n",
    "            torch.save(maddpg_agent.agents[0].critic_local.state_dict(), 'checkpoint_critic_0.pth')\n",
    "            torch.save(maddpg_agent.agents[1].actor_local.state_dict(), 'checkpoint_actor_1.pth')\n",
    "            torch.save(maddpg_agent.agents[1].critic_local.state_dict(), 'checkpoint_critic_1.pth')\n",
    "        # stop training once target score is reached   \n",
    "        if mean_scores_deque >= average_target_score:\n",
    "            print('\\rEnvironment solved at Episode {}\\tAverage Score: {:.2f}'.format(i_episode-n_consecutive_episodes, mean_scores_deque))\n",
    "            torch.save(maddpg_agent.agents[0].actor_local.state_dict(), 'checkpoint_actor_0_final.pth')\n",
    "            torch.save(maddpg_agent.agents[0].critic_local.state_dict(), 'checkpoint_critic_0_final.pth')\n",
    "            torch.save(maddpg_agent.agents[1].actor_local.state_dict(), 'checkpoint_actor_1_final.pth')\n",
    "            torch.save(maddpg_agent.agents[1].critic_local.state_dict(), 'checkpoint_critic_1_final.pth')\n",
    "            break\n",
    "            \n",
    "    return scores"
   ]
  },
  {
   "cell_type": "code",
   "execution_count": null,
   "metadata": {},
   "outputs": [],
   "source": [
    "# Uncomment when working on Udacity workspace\n",
    "#with active_session():\n",
    "#    scores = ddpg(n_episodes=2000, max_t=1000, print_every=10)"
   ]
  },
  {
   "cell_type": "code",
   "execution_count": null,
   "metadata": {},
   "outputs": [],
   "source": [
    "scores = ddpg(n_episodes=1000, max_t=1000, print_every=10)"
   ]
  },
  {
   "cell_type": "code",
   "execution_count": null,
   "metadata": {},
   "outputs": [],
   "source": [
    "fig = plt.figure()\n",
    "ax = fig.add_subplot(111)\n",
    "plt.plot(np.arange(1, len(scores)+1), scores)\n",
    "plt.ylabel('Score')\n",
    "plt.xlabel('Episode #')\n",
    "plt.savefig('./Plots/Average_scores.png')\n",
    "plt.show()"
   ]
  },
  {
   "cell_type": "code",
   "execution_count": null,
   "metadata": {},
   "outputs": [],
   "source": []
  }
 ],
 "metadata": {
  "kernelspec": {
   "display_name": "Python 3",
   "language": "python",
   "name": "python3"
  },
  "language_info": {
   "codemirror_mode": {
    "name": "ipython",
    "version": 3
   },
   "file_extension": ".py",
   "mimetype": "text/x-python",
   "name": "python",
   "nbconvert_exporter": "python",
   "pygments_lexer": "ipython3",
   "version": "3.6.13"
  }
 },
 "nbformat": 4,
 "nbformat_minor": 2
}
